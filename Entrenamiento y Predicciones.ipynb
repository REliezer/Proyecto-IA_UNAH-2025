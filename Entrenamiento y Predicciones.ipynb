{
 "cells": [
  {
   "cell_type": "code",
   "execution_count": 1,
   "id": "97d82d4f-2de5-4a90-8b9c-d60641bf20b3",
   "metadata": {},
   "outputs": [],
   "source": [
    "import numpy as np\n",
    "from preprocesarImagen import PreprocesarImagen as preImg\n",
    "from funcionesActivacion import FuncionesActivacion as funcAct\n",
    "from capaOculta import CapaOculta\n",
    "from redNeuronalFinal import RedNeuronal"
   ]
  },
  {
   "cell_type": "code",
   "execution_count": 9,
   "id": "8b8e876a-c56a-4ab3-b128-60e200733156",
   "metadata": {},
   "outputs": [],
   "source": [
    "#!pip install opencv-python"
   ]
  },
  {
   "cell_type": "code",
   "execution_count": 3,
   "id": "7208309d-816e-47b9-b400-caa3ab14b809",
   "metadata": {},
   "outputs": [],
   "source": [
    "# 1. Cargar imagen\n",
    "imagen_entrenamiento = preImg.cargar_imagen(\"d:/Proyecto IA/img/imagen_entrenar.jpg\")\n",
    "imagen_neg_1 = preImg.cargar_imagen(\"d:/Proyecto IA/img/otra_imagen_1.jpg\")\n",
    "imagen_neg_2 = preImg.cargar_imagen(\"d:/Proyecto IA/img/otra_imagen_2.jpg\")\n",
    "imagen_neg_3 = preImg.cargar_imagen(\"d:/Proyecto IA/img/otra_imagen_3.jpg\")"
   ]
  },
  {
   "cell_type": "code",
   "execution_count": 4,
   "id": "d0fc2d63-4d17-441a-b00f-0fbc4456de29",
   "metadata": {},
   "outputs": [],
   "source": [
    "# 2. Cargar la imagen preprocesada\n",
    "X = np.array([imagen_neg_1, imagen_entrenamiento, imagen_neg_2, imagen_neg_3])\n",
    "y = np.array([[0],[1],[0],[0]])"
   ]
  },
  {
   "cell_type": "code",
   "execution_count": 5,
   "id": "62bfc75a-9fed-45ef-952b-a1b3fe981f6d",
   "metadata": {},
   "outputs": [],
   "source": [
    "# 3. Crear capas\n",
    "capas = [\n",
    "    CapaOculta(480000, 512, funcAct.relu, funcAct.relu_derivada),\n",
    "    CapaOculta(512, 256, funcAct.relu, funcAct.relu_derivada),\n",
    "    CapaOculta(256, 128, funcAct.relu, funcAct.relu_derivada),\n",
    "    CapaOculta(128, 64, funcAct.relu, funcAct.relu_derivada),\n",
    "    CapaOculta(64, 32, funcAct.relu, funcAct.relu_derivada),\n",
    "    CapaOculta(32, 1, funcAct.sigmoide, funcAct.sigmoide_derivada) #capa final\n",
    "]"
   ]
  },
  {
   "cell_type": "code",
   "execution_count": 6,
   "id": "b7fdf344-b59e-42bb-bf03-a47374801ba1",
   "metadata": {},
   "outputs": [],
   "source": [
    "# 4. Crear red neuronal\n",
    "red = RedNeuronal(capas)"
   ]
  },
  {
   "cell_type": "code",
   "execution_count": 7,
   "id": "2814f200-fc17-45fb-8e1e-3f1c80891164",
   "metadata": {},
   "outputs": [
    {
     "name": "stdout",
     "output_type": "stream",
     "text": [
      "Época 1/1000 - MSE: 0.234689\n",
      "Época 101/1000 - MSE: 0.000021\n",
      "Época 201/1000 - MSE: 0.000003\n",
      "Época 301/1000 - MSE: 0.000001\n",
      "Época 401/1000 - MSE: 0.000001\n",
      "Época 501/1000 - MSE: 0.000000\n",
      "Época 601/1000 - MSE: 0.000000\n",
      "Época 701/1000 - MSE: 0.000000\n",
      "Época 801/1000 - MSE: 0.000000\n",
      "Época 901/1000 - MSE: 0.000000\n",
      "Época 1000/1000 - MSE: 0.000000\n"
     ]
    }
   ],
   "source": [
    "# 5. Entrenar\n",
    "red.entrenar(X, y, epochs=1000, tasa_aprendizaje=0.01)"
   ]
  },
  {
   "cell_type": "code",
   "execution_count": 18,
   "id": "f9b291b0-18d9-4d9d-a83d-d9ef91f684f7",
   "metadata": {},
   "outputs": [
    {
     "name": "stdout",
     "output_type": "stream",
     "text": [
      "\n",
      "Predicciones luego del entrenamiento:\n",
      "otra_imagen_1 → Predicción: 0.0001\n",
      "Mi imagen → Predicción: 0.9996\n",
      "otra_imagen_2 → Predicción: 0.0002\n",
      "otra_imagen_3 → Predicción: 0.0002\n"
     ]
    }
   ],
   "source": [
    "# 6. Mostrar predicciones para cada imagen\n",
    "print(\"\\nPredicciones luego del entrenamiento:\")\n",
    "nombres_imagenes = [\"otra_imagen_1\", \"Mi imagen\", \"otra_imagen_2\", \"otra_imagen_3\"]\n",
    "\n",
    "for i, entrada in enumerate(X):\n",
    "    pred = red.predecir(np.array([entrada]))\n",
    "    print(f\"{nombres_imagenes[i]} → Predicción: {pred[0][0]:.4f}\")"
   ]
  },
  {
   "cell_type": "code",
   "execution_count": null,
   "id": "0d0ba19d-8b27-4b72-bb48-1dd3f1cd4e1a",
   "metadata": {},
   "outputs": [],
   "source": []
  }
 ],
 "metadata": {
  "kernelspec": {
   "display_name": "Python 3 (ipykernel)",
   "language": "python",
   "name": "python3"
  },
  "language_info": {
   "codemirror_mode": {
    "name": "ipython",
    "version": 3
   },
   "file_extension": ".py",
   "mimetype": "text/x-python",
   "name": "python",
   "nbconvert_exporter": "python",
   "pygments_lexer": "ipython3",
   "version": "3.12.7"
  }
 },
 "nbformat": 4,
 "nbformat_minor": 5
}
